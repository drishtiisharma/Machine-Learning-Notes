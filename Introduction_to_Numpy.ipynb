{
  "metadata": {
    "kernelspec": {
      "language": "python",
      "display_name": "Python 3",
      "name": "python3"
    },
    "language_info": {
      "name": "python",
      "version": "3.11.13",
      "mimetype": "text/x-python",
      "codemirror_mode": {
        "name": "ipython",
        "version": 3
      },
      "pygments_lexer": "ipython3",
      "nbconvert_exporter": "python",
      "file_extension": ".py"
    },
    "kaggle": {
      "accelerator": "none",
      "dataSources": [],
      "dockerImageVersionId": 31153,
      "isInternetEnabled": true,
      "language": "python",
      "sourceType": "notebook",
      "isGpuEnabled": false
    },
    "colab": {
      "name": "Introduction to Numpy",
      "provenance": []
    }
  },
  "nbformat_minor": 0,
  "nbformat": 4,
  "cells": [
    {
      "cell_type": "markdown",
      "source": [
        "# Intro to Numpy\n",
        "\n",
        "* NumPy is a Python library used for working with arrays.\n",
        "* It also has functions for working in domain of linear algebra, Fourier transform, and matrices.\n",
        "* Developed in 2005 by Travis Oliphant\n",
        "* why NumPy is faster than lists in python: NumPy arrays are stored at one continuous place in memory unlike lists, so processes can access and manipulate them very efficiently.\n",
        "\n"
      ],
      "metadata": {
        "id": "CGGkg7SBfCzN"
      }
    },
    {
      "cell_type": "markdown",
      "source": [
        "# Importing numpy\n",
        "> import numpy as np"
      ],
      "metadata": {
        "id": "keqjvvUXfCzZ"
      }
    },
    {
      "cell_type": "markdown",
      "source": [
        "# Numpy Basics"
      ],
      "metadata": {
        "id": "WWW_FmwafCza"
      }
    },
    {
      "cell_type": "code",
      "source": [
        "#creating arrays\n",
        "import numpy as np\n",
        "a=np.array([1,2,3,4,5])\n",
        "print(a)\n"
      ],
      "metadata": {
        "trusted": true,
        "execution": {
          "iopub.status.busy": "2025-10-27T11:23:15.811905Z",
          "iopub.execute_input": "2025-10-27T11:23:15.812246Z",
          "iopub.status.idle": "2025-10-27T11:23:15.825422Z",
          "shell.execute_reply.started": "2025-10-27T11:23:15.812214Z",
          "shell.execute_reply": "2025-10-27T11:23:15.824336Z"
        },
        "id": "unhOLHfufCzb",
        "outputId": "3a1be9c0-637e-4ec5-c6b4-e3f5b662ff6b",
        "colab": {
          "base_uri": "https://localhost:8080/"
        }
      },
      "outputs": [
        {
          "output_type": "stream",
          "name": "stdout",
          "text": [
            "[1 2 3 4 5]\n"
          ]
        }
      ],
      "execution_count": 1
    },
    {
      "cell_type": "code",
      "source": [
        "#finding numpy version and array datatype\n",
        "print(\"numpy version: \",np.__version__)\n",
        "print('datatype of array',type(a))"
      ],
      "metadata": {
        "trusted": true,
        "execution": {
          "iopub.status.busy": "2025-10-27T11:24:47.364298Z",
          "iopub.execute_input": "2025-10-27T11:24:47.364919Z",
          "iopub.status.idle": "2025-10-27T11:24:47.369768Z",
          "shell.execute_reply.started": "2025-10-27T11:24:47.364889Z",
          "shell.execute_reply": "2025-10-27T11:24:47.368761Z"
        },
        "id": "kE4t_LNzfCze",
        "outputId": "506b515c-92f7-4d69-d524-c9811c27678f",
        "colab": {
          "base_uri": "https://localhost:8080/"
        }
      },
      "outputs": [
        {
          "output_type": "stream",
          "name": "stdout",
          "text": [
            "numpy version:  2.0.2\n",
            "datatype of array <class 'numpy.ndarray'>\n"
          ]
        }
      ],
      "execution_count": 2
    },
    {
      "cell_type": "code",
      "source": [
        "#checking dimensions of arrays\n",
        "b=np.array([[1,2],[3,4]])\n",
        "print('dimensions of array: ',b.ndim)"
      ],
      "metadata": {
        "trusted": true,
        "execution": {
          "iopub.status.busy": "2025-10-27T11:28:38.192645Z",
          "iopub.execute_input": "2025-10-27T11:28:38.193263Z",
          "iopub.status.idle": "2025-10-27T11:28:38.198778Z",
          "shell.execute_reply.started": "2025-10-27T11:28:38.193232Z",
          "shell.execute_reply": "2025-10-27T11:28:38.197525Z"
        },
        "id": "V_IzNz4UfCzf",
        "outputId": "03d24a2e-b94d-4c6d-de0d-b8f34025aa90",
        "colab": {
          "base_uri": "https://localhost:8080/"
        }
      },
      "outputs": [
        {
          "output_type": "stream",
          "name": "stdout",
          "text": [
            "dimensions of array:  2\n"
          ]
        }
      ],
      "execution_count": 3
    },
    {
      "cell_type": "code",
      "source": [
        "#accessing elements\n",
        "#positive indexing\n",
        "x=np.array([10,20,30,40,50,60,70,80,90])\n",
        "print(\"value at 3rd index(positive indexing): \",x[3])\n",
        "#negative indexing\n",
        "print(\"value at 3rd index(negative indexing): \",x[-3])"
      ],
      "metadata": {
        "trusted": true,
        "execution": {
          "iopub.status.busy": "2025-10-27T11:30:23.414446Z",
          "iopub.execute_input": "2025-10-27T11:30:23.415244Z",
          "iopub.status.idle": "2025-10-27T11:30:23.420348Z",
          "shell.execute_reply.started": "2025-10-27T11:30:23.415211Z",
          "shell.execute_reply": "2025-10-27T11:30:23.419198Z"
        },
        "id": "7jkcTSo7fCzg",
        "outputId": "a992ade4-c897-4cc4-8574-ecb113ddba03",
        "colab": {
          "base_uri": "https://localhost:8080/"
        }
      },
      "outputs": [
        {
          "output_type": "stream",
          "name": "stdout",
          "text": [
            "value at 3rd index(positive indexing):  40\n",
            "value at 3rd index(negative indexing):  70\n"
          ]
        }
      ],
      "execution_count": 4
    },
    {
      "cell_type": "code",
      "source": [
        "#slicing arrays\n",
        "m=np.array([1,2,3,4,5,8,5,7,6])\n",
        "print('sliced 1d array: ',m[2:4]) #slicing 1d array\n",
        "p=np.array([[1,2,3,4],[5,6,7,8],[9,10,11,12]])\n",
        "print('sliced 2d array: ',p[:,2]) #slicing 2d array"
      ],
      "metadata": {
        "trusted": true,
        "execution": {
          "iopub.status.busy": "2025-10-27T11:34:24.160648Z",
          "iopub.execute_input": "2025-10-27T11:34:24.160941Z",
          "iopub.status.idle": "2025-10-27T11:34:24.16759Z",
          "shell.execute_reply.started": "2025-10-27T11:34:24.16092Z",
          "shell.execute_reply": "2025-10-27T11:34:24.166478Z"
        },
        "id": "1A6Bf21dfCzh",
        "outputId": "2e31f836-1702-433e-e9ed-5c3c1bb44c2a",
        "colab": {
          "base_uri": "https://localhost:8080/"
        }
      },
      "outputs": [
        {
          "output_type": "stream",
          "name": "stdout",
          "text": [
            "sliced 1d array:  [3 4]\n",
            "sliced 2d array:  [ 3  7 11]\n"
          ]
        }
      ],
      "execution_count": 5
    }
  ]
}